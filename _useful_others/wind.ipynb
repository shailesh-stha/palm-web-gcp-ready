{
 "cells": [
  {
   "cell_type": "code",
   "execution_count": 1,
   "metadata": {},
   "outputs": [],
   "source": [
    "import netCDF4 as nc\n",
    "import numpy as np\n",
    "from pyproj import Proj, transform, Transformer\n",
    "\n",
    "input_file = r\"F:/Simulation_PALM/_simulation_data/_kn_4096x4096_base - backup/konstanz_4096x4096_v4_3d_N03.000.nc\"\n",
    "output_file = r\"F:/reduced.nc\"\n",
    "# Read NetCDF file as dataset\n",
    "ds = nc.Dataset(input_file, mode=\"r\")\n",
    "\n",
    "origin_x = ds.origin_x\n",
    "origin_y = ds.origin_y"
   ]
  },
  {
   "cell_type": "code",
   "execution_count": 2,
   "metadata": {},
   "outputs": [
    {
     "name": "stdout",
     "output_type": "stream",
     "text": [
      "[47.65888374 47.65890169 47.65891965 47.6589376  47.65895556]\n",
      "[9.17182984 9.17185654 9.17188323 9.17190993 9.17193662]\n"
     ]
    }
   ],
   "source": [
    "variable_list = ['x', 'y', 'xu', 'yv']\n",
    "# for variable_name in variable_list:\n",
    "x = ds['x'][:]\n",
    "y = ds['y'][:]\n",
    "xu = ds['xu'][:]\n",
    "yv = ds['yv'][:]\n",
    "\n",
    "coordinates_x = x + origin_x - 1\n",
    "coordinates_y = y + origin_y - 1\n",
    "\n",
    "transformer = Transformer.from_crs(\"EPSG:25832\", \"EPSG:4326\") # Transformer.from_crs(source, target)\n",
    "# Germany lat, lon = 51.16 N, 10.45 E\n",
    "\n",
    "# AOI Child Boundary\n",
    "xlist, y_list = [512902.0, 513414.0], [5278402.0, 5278914.0]\n",
    "\n",
    "lat_values, lon_values = transformer.transform(coordinates_x, coordinates_y)\n",
    "print(lat_values[:5])\n",
    "print(lon_values[:5])\n",
    "\n",
    "def band_time_n_hour(x_tick_interval):\n",
    "    # create band and time sequence based on x_tick_interval\n",
    "    band_sequence = [0]\n",
    "    first_hour = 6*x_tick_interval - 1\n",
    "    band_sequence.extend(np.arange(first_hour, 144, 6 * x_tick_interval))\n",
    "\n",
    "    time_sequence = [((band_index+1) / 6) for band_index in band_sequence]\n",
    "    time_sequence[0] = 0.1\n",
    "    \n",
    "    # define levels to export\n",
    "    level_sequence = [4,6,8,10,12,16,18,20] # 0=4, 7=20\n",
    "    return band_sequence, time_sequence, len(time_sequence), level_sequence\n",
    "\n",
    "x_tick_interval = 3 # n hour\n",
    "band_sequence, time_sequence, time_steps, level_sequence = band_time_n_hour(x_tick_interval)"
   ]
  },
  {
   "cell_type": "code",
   "execution_count": 3,
   "metadata": {},
   "outputs": [],
   "source": [
    "useful_global_attributes = [\"origin_time\", \"origin_lat\", \"origin_lon\", \"origin_x\", \"origin_y\", \"origin_z\"]\n",
    "variable_list = ['u', 'v']\n",
    "\n",
    "with nc.Dataset(output_file, mode=\"w\") as out_file:\n",
    "        # Copy global attributes from the input file to the output file\n",
    "        for attr_name in useful_global_attributes:\n",
    "            if attr_name in ds.ncattrs():\n",
    "                out_file.setncattr(attr_name, ds.getncattr(attr_name))\n",
    "        \n",
    "        # Create dimensions wrt the original dataset (time, zu_3d, y, x)\n",
    "        for dim_name, dim in ds.dimensions.items():\n",
    "            if dim_name == 'time':\n",
    "                out_file.createDimension(dim_name, time_steps)\n",
    "                out_variable = out_file.createVariable(dim_name, ds[dim_name].dtype, (dim_name,))\n",
    "                out_variable[:] = time_sequence\n",
    "            elif dim_name == 'zu_3d':\n",
    "                new_dim_name = 'lev'\n",
    "                out_file.createDimension(new_dim_name, len(level_sequence))\n",
    "                out_variable = out_file.createVariable(new_dim_name, ds[dim_name].dtype, (new_dim_name,))\n",
    "                out_variable[:] = level_sequence\n",
    "            elif dim_name == 'y':\n",
    "                new_dim_name = 'lat'\n",
    "                out_file.createDimension(new_dim_name, len(ds[dim_name]))\n",
    "                out_variable = out_file.createVariable(new_dim_name, ds[dim_name].dtype, (new_dim_name,))\n",
    "                out_variable[:] = lat_values\n",
    "            elif dim_name == 'x':\n",
    "                new_dim_name = 'lon'\n",
    "                out_file.createDimension(new_dim_name, len(ds[dim_name]))\n",
    "                out_variable = out_file.createVariable(new_dim_name, ds[dim_name].dtype, (new_dim_name,))\n",
    "                out_variable[:] = lon_values\n",
    "                \n",
    "        # Create variable and copy data as required\n",
    "        for variable_name in variable_list:\n",
    "            out_variable = out_file.createVariable(variable_name, ds[variable_name].dtype, ('time', 'lev', 'lat', 'lon'))\n",
    "            for i, band_index in enumerate(band_sequence):\n",
    "                # Extract the subset of data and save it to the output variable\n",
    "                for j, level in enumerate(level_sequence):\n",
    "                    band_data = ds[variable_name][band_index, level, :, :]\n",
    "                    out_variable[i, j, :, :] = band_data\n"
   ]
  },
  {
   "cell_type": "code",
   "execution_count": 4,
   "metadata": {},
   "outputs": [
    {
     "name": "stdout",
     "output_type": "stream",
     "text": [
      "[47.65888374 47.65890169 47.65891965 47.6589376  47.65895556]\n",
      "[9.17182984 9.17185654 9.17188323 9.17190993 9.17193662]\n"
     ]
    }
   ],
   "source": [
    "output_file = r\"F:/reduced.nc\"\n",
    "# Read NetCDF file as dataset\n",
    "with nc.Dataset(output_file, mode=\"r\") as ds_reduced:\n",
    "    # print(ds_reduced)\n",
    "    print(ds_reduced['lat'][:5])\n",
    "    print(ds_reduced['lon'][:5])\n",
    "\n",
    "# sample_file = r\"F:\\wind_global.nc\"\n",
    "# with nc.Dataset(sample_file, mode=\"r\") as sample_file:\n",
    "#     print(sample_file['u_wind'][:10,:])\n"
   ]
  },
  {
   "cell_type": "code",
   "execution_count": 22,
   "metadata": {},
   "outputs": [
    {
     "data": {
      "application/vnd.jupyter.widget-view+json": {
       "model_id": "c5fbce29b8b1435da03cfb9210903ac5",
       "version_major": 2,
       "version_minor": 0
      },
      "text/plain": [
       "Map(center=[47.65978150120808, 9.173164618098161], controls=(ZoomControl(options=['position', 'zoom_in_text', …"
      ]
     },
     "metadata": {},
     "output_type": "display_data"
    }
   ],
   "source": [
    "import leafmap\n",
    "file = r\"F:/wind_global.nc\"\n",
    "netcdf_data = leafmap.read_netcdf(file)\n",
    "m = leafmap.Map(width=500, height=500, zoom=4)\n",
    "m.set_center(lon_lat[0], lon_lat[1])\n",
    "m.add_basemap('Google Satellite')\n",
    "m.add_velocity(netcdf_data,\n",
    "                   zonal_speed='u_wind',\n",
    "                   meridional_speed='v_wind',\n",
    "                #    latitude_dimension='lat',\n",
    "                   velocity_scale=0.012\n",
    "                   )\n",
    "m\n"
   ]
  },
  {
   "cell_type": "code",
   "execution_count": 18,
   "metadata": {},
   "outputs": [
    {
     "data": {
      "application/vnd.jupyter.widget-view+json": {
       "model_id": "4a4e6d2a07bd4b92a0b147ed293c373a",
       "version_major": 2,
       "version_minor": 0
      },
      "text/plain": [
       "Map(center=[47.65978150120808, 9.173164618098161], controls=(ZoomControl(options=['position', 'zoom_in_text', …"
      ]
     },
     "metadata": {},
     "output_type": "display_data"
    }
   ],
   "source": [
    "import leafmap\n",
    "\n",
    "netcdf_data = leafmap.read_netcdf(output_file)\n",
    "lon_lat = [9.11595592, 47.46664243] #x_y\n",
    "\n",
    "with nc.Dataset(output_file, mode=\"r\") as ds_reduced:\n",
    "    test = (ds_reduced['lon'][50], ds_reduced['lat'][50])\n",
    "    lon_lat = (test[0].item(), test[1].item())\n",
    "    \n",
    "m = leafmap.Map(width=850, height=800, zoom=16)\n",
    "m.set_center(lon_lat[0], lon_lat[1])\n",
    "m.add_basemap('Google Satellite')\n",
    "m.add_velocity(netcdf_data,\n",
    "                   zonal_speed='u',\n",
    "                   meridional_speed='v',\n",
    "                   latitude_dimension='lat',\n",
    "                   longitude_dimension='lon',\n",
    "                   level_dimension='lev',\n",
    "                   level_index = 1,\n",
    "                   time_index=6,\n",
    "                #    velocity_scale=0.02,\n",
    "                   display_options= dict({\n",
    "                       'speedUnit' : 'm/s',\n",
    "                       'displayEmptyString': 'No velocity data',\n",
    "                       }),\n",
    "                   max_velocity=3,\n",
    "                   name=f\"Wind\",\n",
    "                   )\n",
    "m"
   ]
  },
  {
   "cell_type": "code",
   "execution_count": 29,
   "metadata": {},
   "outputs": [
    {
     "name": "stdout",
     "output_type": "stream",
     "text": [
      "1200\n",
      "<class 'str'>\n"
     ]
    }
   ],
   "source": [
    "a = '12:00'\n",
    "\n",
    "time = a.replace(\":\",\"\")\n",
    "print(time)\n",
    "\n",
    "print(type(time))"
   ]
  }
 ],
 "metadata": {
  "kernelspec": {
   "display_name": "venv",
   "language": "python",
   "name": "python3"
  },
  "language_info": {
   "codemirror_mode": {
    "name": "ipython",
    "version": 3
   },
   "file_extension": ".py",
   "mimetype": "text/x-python",
   "name": "python",
   "nbconvert_exporter": "python",
   "pygments_lexer": "ipython3",
   "version": "3.10.10"
  }
 },
 "nbformat": 4,
 "nbformat_minor": 2
}
