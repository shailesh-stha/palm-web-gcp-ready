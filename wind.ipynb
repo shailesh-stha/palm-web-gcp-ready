{
 "cells": [
  {
   "cell_type": "code",
   "execution_count": 80,
   "metadata": {},
   "outputs": [
    {
     "name": "stdout",
     "output_type": "stream",
     "text": [
      "2.1698451903619933\n"
     ]
    },
    {
     "data": {
      "application/vnd.jupyter.widget-view+json": {
       "model_id": "d029b153a055437a82bee5691ebf9de4",
       "version_major": 2,
       "version_minor": 0
      },
      "text/plain": [
       "Map(center=[47.66094857351787, 9.17524696115189], controls=(ZoomControl(options=['position', 'zoom_in_text', '…"
      ]
     },
     "metadata": {},
     "output_type": "display_data"
    }
   ],
   "source": [
    "# Third-party library imports\n",
    "import leafmap # leafmap==0.29.6 keplergl==0.3.2\n",
    "import netCDF4 as nc\n",
    "import numpy as np\n",
    "import streamlit as st\n",
    "\n",
    "time_index_wind = 6\n",
    "level_index_wind = 2\n",
    "\n",
    "netcdf_file = r\"./data/netcdf/3D/reduced.nc\"\n",
    "netcdf_data = leafmap.read_netcdf(netcdf_file)\n",
    "\n",
    "with nc.Dataset(netcdf_file, mode=\"r\") as ds_reduced:\n",
    "    max_u = np.nanmax(ds_reduced['u'][time_index_wind,level_index_wind,:,:])\n",
    "    max_v = np.nanmax(ds_reduced['u'][time_index_wind,level_index_wind,:,:])\n",
    "    max_velocity = (max_u**2+max_v**2)**0.5\n",
    "    \n",
    "    velocity_dict = {0.68: 0.06,\n",
    "                         1.15: 0.05,\n",
    "                         1.17: 0.03,\n",
    "                         1.95: 0.025,\n",
    "                         2.70: 0.016,\n",
    "                         3.50: 0.0125,\n",
    "                         }\n",
    "    for key in velocity_dict:\n",
    "        if max_velocity < key:\n",
    "            velocity_scale = velocity_dict[key]\n",
    "            break\n",
    "        else:\n",
    "            velocity_scale = 0.005\n",
    "   \n",
    "    test = (ds_reduced['lon'][128], ds_reduced['lat'][115])\n",
    "    lon_lat = (test[0].item(), test[1].item())\n",
    "\n",
    "m = leafmap.Map(zoom=17)\n",
    "m.set_center(lon_lat[0], lon_lat[1])\n",
    "m.add_basemap('Google Satellite')\n",
    "\n",
    "# Add velocity\n",
    "m.add_velocity(netcdf_data,\n",
    "                zonal_speed='u',\n",
    "                meridional_speed='v',\n",
    "                latitude_dimension='lat',\n",
    "                longitude_dimension='lon',\n",
    "                level_dimension='lev',\n",
    "                level_index=level_index_wind,\n",
    "                time_index=time_index_wind,\n",
    "                velocity_scale=velocity_scale,\n",
    "                max_velocity=3,\n",
    "                )\n",
    "\n",
    "image_url = r\"./images/base_simulation_alpha_075/N03/base_1800.png\"\n",
    "bounds_N03 = [[47.6588733206033766, 9.1718298413872255],\n",
    "                    [47.6634905475628230, 9.1786643808656230]]\n",
    "m.image_overlay(image_url, bounds_N03, name=\"2m air Temperature\")\n",
    "print(max_velocity)\n",
    "m"
   ]
  }
 ],
 "metadata": {
  "kernelspec": {
   "display_name": "venv",
   "language": "python",
   "name": "python3"
  },
  "language_info": {
   "name": "python",
   "version": "3.10.10"
  }
 },
 "nbformat": 4,
 "nbformat_minor": 2
}
